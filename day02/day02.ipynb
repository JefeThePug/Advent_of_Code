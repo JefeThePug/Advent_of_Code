{
 "cells": [
  {
   "cell_type": "code",
   "execution_count": 26,
   "id": "2eafff43-eca1-4842-b2ba-6b4d37b53e40",
   "metadata": {},
   "outputs": [
    {
     "name": "stdout",
     "output_type": "stream",
     "text": [
      "11841\n"
     ]
    }
   ],
   "source": [
    "\"\"\"\n",
    "--- Day 2: Rock Paper Scissors ---\n",
    "\n",
    "The Elves begin to set up camp on the beach. To decide whose tent gets to \n",
    "be closest to the snack storage, a giant Rock Paper Scissors tournament is \n",
    "already in progress.\n",
    "\n",
    "Rock Paper Scissors is a game between two players. Each game contains many \n",
    "rounds; in each round, the players each simultaneously choose one of Rock, \n",
    "Paper, or Scissors using a hand shape. Then, a winner for that round is \n",
    "selected: Rock defeats Scissors, Scissors defeats Paper, and Paper defeats \n",
    "Rock. If both players choose the same shape, the round instead ends in a \n",
    "draw.\n",
    "\n",
    "Appreciative of your help yesterday, one Elf gives you an encrypted \n",
    "strategy guide (your puzzle input) that they say will be sure to help you \n",
    "win. \"The first column is what your opponent is going to play: A for Rock, \n",
    "B for Paper, and C for Scissors. The second column--\" Suddenly, the Elf is \n",
    "called away to help with someone's tent.\n",
    "\n",
    "The second column, you reason, must be what you should play in response: X \n",
    "for Rock, Y for Paper, and Z for Scissors. Winning every time would be \n",
    "suspicious, so the responses must have been carefully chosen.\n",
    "\n",
    "The winner of the whole tournament is the player with the highest score. \n",
    "Your total score is the sum of your scores for each round. The score for a \n",
    "single round is the score for the shape you selected (1 for Rock, 2 for \n",
    "Paper, and 3 for Scissors) plus the score for the outcome of the round (0 \n",
    "if you lost, 3 if the round was a draw, and 6 if you won).\n",
    "\n",
    "Since you can't be sure if the Elf is trying to help you or trick you, you \n",
    "should calculate the score you would get if you were to follow the strategy \n",
    "guide.\n",
    "\n",
    "For example, suppose you were given the following strategy guide:\n",
    "\n",
    "A Y\n",
    "B X\n",
    "C Z\n",
    "\n",
    "This strategy guide predicts and recommends the following:\n",
    "\n",
    " - In the first round, your opponent will choose Rock (A), and you should \n",
    "   choose Paper(Y). This ends in a win for you with a score of 8 (2 \n",
    "   because you chose Paper + 6 because you won).\n",
    " - In the second round, your opponent will choose Paper (B), and you \n",
    "   should choose Rock(X). This ends in a loss for you with a score of 1 \n",
    "   (1 + 0).\n",
    " - The third round is a draw with both players choosing Scissors, giving \n",
    "   you a score of 3 + 3 = 6.\n",
    "   \n",
    "In this example, if you were to follow the strategy guide, you would get a \n",
    "total score of 15 (8 + 1 + 6).\n",
    "\n",
    "What would your total score be if everything goes exactly according to your \n",
    "strategy guide?\n",
    "\n",
    "\"\"\"\n",
    "\n",
    "\n",
    "def get_total(arr: list) -> int:\n",
    "    outcomes = {\"A X\":4 , \"A Y\":8 , \"A Z\":3 , \"B X\":1 , \"B Y\":5 , \"B Z\":9 , \"C X\":7 , \"C Y\":2 , \"C Z\":6}\n",
    "    return sum([outcomes[i] for i in arr])\n",
    "\n",
    "with open(\"input.txt\") as f:\n",
    "    print(get_total(f.read().split(\"\\n\")[:-1]))\n",
    "\n",
    "#total score is 11841\n"
   ]
  },
  {
   "cell_type": "code",
   "execution_count": 32,
   "id": "5dbf5311-3d9a-4ff4-8334-8283aa3fcc06",
   "metadata": {},
   "outputs": [
    {
     "name": "stdout",
     "output_type": "stream",
     "text": [
      "13022\n"
     ]
    }
   ],
   "source": [
    "\"\"\"\n",
    "--- Part Two ---\n",
    "\n",
    "The Elf finishes helping with the tent and sneaks back over to you. \n",
    "\"Anyway, the second column says how the round needs to end: X means you \n",
    "need to lose, Y means you need to end the round in a draw, and Z means you \n",
    "need to win. Good luck!\"\n",
    "\n",
    "The total score is still calculated in the same way, but now you need to \n",
    "figure out what shape to choose so the round ends as indicated. The example \n",
    "above now goes like this:\n",
    "\n",
    " - In the first round, your opponent will choose Rock (A), and you need \n",
    "   the round to end in a draw (Y), so you also choose Rock. This gives \n",
    "   you a score of 1 + 3 = 4.\n",
    " - In the second round, your opponent will choose Paper (B), and you \n",
    "   choose Rock so you lose (X) with a score of 1 + 0 = 1.\n",
    " - In the third round, you will defeat your opponent's Scissors with Rock \n",
    "   for a score of 1 + 6 = 7.\n",
    "\n",
    "Now that you're correctly decrypting the ultra top secret strategy guide, \n",
    "you would get a total score of 12.\n",
    "\n",
    "Following the Elf's instructions for the second column, what would your \n",
    "total score be if everything goes exactly according to your strategy guide?\n",
    "\n",
    "\"\"\"\n",
    "\n",
    "\n",
    "def get_total(arr: list) -> int:\n",
    "    outcomes = {\"A X\":3 , \"A Y\":4 , \"A Z\":8 , \"B X\":1 , \"B Y\":5 , \"B Z\":9 , \"C X\":2 , \"C Y\":6 , \"C Z\":7}\n",
    "    return sum([outcomes[i] for i in arr])\n",
    "\n",
    "with open(\"input.txt\") as f:\n",
    "    print(get_total(f.read().split(\"\\n\")[:-1]))\n",
    "    \n",
    "#total score is 13022\n"
   ]
  },
  {
   "cell_type": "code",
   "execution_count": null,
   "id": "e0fadb13-9e4d-4cb8-b7e4-b75f5a80ecf4",
   "metadata": {},
   "outputs": [],
   "source": []
  }
 ],
 "metadata": {
  "kernelspec": {
   "display_name": "Python 3 (ipykernel)",
   "language": "python",
   "name": "python3"
  },
  "language_info": {
   "codemirror_mode": {
    "name": "ipython",
    "version": 3
   },
   "file_extension": ".py",
   "mimetype": "text/x-python",
   "name": "python",
   "nbconvert_exporter": "python",
   "pygments_lexer": "ipython3",
   "version": "3.8.13"
  }
 },
 "nbformat": 4,
 "nbformat_minor": 5
}
