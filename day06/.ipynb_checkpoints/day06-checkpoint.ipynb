{
 "cells": [
  {
   "cell_type": "code",
   "execution_count": 12,
   "id": "3319135e-2c74-418a-b315-86d42db81826",
   "metadata": {},
   "outputs": [
    {
     "name": "stdout",
     "output_type": "stream",
     "text": [
      "1300\n"
     ]
    }
   ],
   "source": [
    "\"\"\"\n",
    "--- Day 6: Tuning Trouble ---\n",
    "\n",
    "The preparations are finally complete; you and the Elves leave camp on foot \n",
    "and begin to make your way toward the star fruit grove.\n",
    "\n",
    "As you move through the dense undergrowth, one of the Elves gives you a \n",
    "handheld device. He says that it has many fancy features, but the most \n",
    "important one to set up right now is the communication system.\n",
    "\n",
    "However, because he's heard you have significant experience dealing with \n",
    "signal-based systems, he convinced the other Elves that it would be okay to \n",
    "give you their one malfunctioning device - surely you'll have no problem \n",
    "fixing it.\n",
    "\n",
    "As if inspired by comedic timing, the device emits a few colorful sparks.\n",
    "\n",
    "To be able to communicate with the Elves, the device needs to lock on to \n",
    "their signal. The signal is a series of seemingly-random characters that \n",
    "the device receives one at a time.\n",
    "\n",
    "To fix the communication system, you need to add a subroutine to the device \n",
    "that detects a start-of-packet marker in the datastream. In the protocol \n",
    "being used by the Elves, the start of a packet is indicated by a sequence \n",
    "of four characters that are all different.\n",
    "\n",
    "The device will send your subroutine a datastream buffer (your puzzle \n",
    "input); your subroutine needs to identify the first position where the four \n",
    "most recently received characters were all different. Specifically, it \n",
    "needs to report the number of characters from the beginning of the buffer \n",
    "to the end of the first such four-character marker.\n",
    "\n",
    "For example, suppose you receive the following datastream buffer:\n",
    "\n",
    "mjqjpqmgbljsphdztnvjfqwrcgsmlb\n",
    "\n",
    "After the first three characters (mjq) have been received, there haven't \n",
    "been enough characters received yet to find the marker. The first time a \n",
    "marker could occur is after the fourth character is received, making the \n",
    "most recent four characters mjqj. Because j is repeated, this isn't a \n",
    "marker.\n",
    "\n",
    "The first time a marker appears is after the seventh character arrives. \n",
    "Once it does, the last four characters received are jpqm, which are all \n",
    "different. In this case, your subroutine should report the value 7, because \n",
    "the first start-of-packet marker is complete after 7 characters have been \n",
    "processed.\n",
    "\n",
    "Here are a few more examples:\n",
    "\n",
    " - bvwbjplbgvbhsrlpgdmjqwftvncz: first marker after character 5\n",
    " - nppdvjthqldpwncqszvftbrmjlhg: first marker after character 6\n",
    " - nznrnfrfntjfmvfwmzdfjlvtqnbhcprsg: first marker after character 10\n",
    " - zcfzfwzzqfrljwzlrfnpqdbhtmscgvjw: first marker after character 11\n",
    "\n",
    "How many characters need to be processed before the first start-of-packet \n",
    "marker is detected?\n",
    "\"\"\"\n",
    "\n",
    "\n",
    "def get_marker(s: str) -> int:\n",
    "    for i in range(4, len(s)):\n",
    "        if len(set(s[i-4:i])) == 4:\n",
    "            return i\n",
    "\n",
    "with open(\"input.txt\") as f:\n",
    "    print(get_marker(f.read()))\n",
    "\n",
    "# Unique Marker Detected: 1300\n"
   ]
  },
  {
   "cell_type": "code",
   "execution_count": 22,
   "id": "6f0aa2b1-fe8a-4ade-8026-b5cd5f0a9a82",
   "metadata": {},
   "outputs": [
    {
     "name": "stdout",
     "output_type": "stream",
     "text": [
      "3986\n"
     ]
    }
   ],
   "source": [
    "\"\"\"\n",
    "--- Part Two ---\n",
    "\n",
    "Your device's communication system is correctly detecting packets, but \n",
    "still isn't working. It looks like it also needs to look for messages.\n",
    "\n",
    "A start-of-message marker is just like a start-of-packet marker, except it \n",
    "consists of 14 distinct characters rather than 4.\n",
    "\n",
    "Here are the first positions of start-of-message markers for all of the \n",
    "above examples:\n",
    "\n",
    " - mjqjpqmgbljsphdztnvjfqwrcgsmlb: first marker after character 19\n",
    " - bvwbjplbgvbhsrlpgdmjqwftvncz: first marker after character 23\n",
    " - nppdvjthqldpwncqszvftbrmjlhg: first marker after character 23\n",
    " - nznrnfrfntjfmvfwmzdfjlvtqnbhcprsg: first marker after character 29\n",
    " - zcfzfwzzqfrljwzlrfnpqdbhtmscgvjw: first marker after character 26\n",
    "\n",
    "How many characters need to be processed before the first start-of-message \n",
    "marker is detected?\n",
    "\n",
    "\"\"\"\n",
    "\n",
    "\n",
    "def get_marker(s: str, n:int) -> int:\n",
    "    for i in range(n, len(s)):\n",
    "        if len(set(s[i-n:i])) == n:\n",
    "            return i\n",
    "        \n",
    "with open(\"input.txt\") as f:\n",
    "    print(get_marker(f.read(), 14))\n",
    "\n",
    "# Unique Marker Detected: 3986"
   ]
  },
  {
   "cell_type": "code",
   "execution_count": null,
   "id": "b36cd60e-547f-4f45-ba60-c43dcb1dec39",
   "metadata": {},
   "outputs": [],
   "source": []
  }
 ],
 "metadata": {
  "kernelspec": {
   "display_name": "Python 3 (ipykernel)",
   "language": "python",
   "name": "python3"
  },
  "language_info": {
   "codemirror_mode": {
    "name": "ipython",
    "version": 3
   },
   "file_extension": ".py",
   "mimetype": "text/x-python",
   "name": "python",
   "nbconvert_exporter": "python",
   "pygments_lexer": "ipython3",
   "version": "3.8.13"
  }
 },
 "nbformat": 4,
 "nbformat_minor": 5
}
