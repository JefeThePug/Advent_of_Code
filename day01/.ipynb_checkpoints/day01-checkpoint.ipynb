{
 "cells": [
  {
   "cell_type": "code",
   "execution_count": 3,
   "id": "8d2d4800-ffef-4405-8148-e0a6a7b09233",
   "metadata": {},
   "outputs": [
    {
     "name": "stdout",
     "output_type": "stream",
     "text": [
      "64929\n"
     ]
    }
   ],
   "source": [
    "\"\"\"\n",
    "--- Day 1: Calorie Counting ---\n",
    "Santa's reindeer typically eat regular reindeer food, but they need a lot of magical energy \n",
    "to deliver presents on Christmas. For that, their favorite snack is a special type of \n",
    "star fruit that only grows deep in the jungle. The Elves have brought you on their annual \n",
    "expedition to the grove where the fruit grows.\n",
    "\n",
    "To supply enough magical energy, the expedition needs to retrieve a minimum of fifty stars \n",
    "by December 25th. Although the Elves assure you that the grove has plenty of fruit, you \n",
    "decide to grab any fruit you see along the way, just in case.\n",
    "\n",
    "Collect stars by solving puzzles. Two puzzles will be made available on each day in the \n",
    "Advent calendar; the second puzzle is unlocked when you complete the first. Each puzzle \n",
    "grants one star. Good luck!\n",
    "\n",
    "The jungle must be too overgrown and difficult to navigate in vehicles or access from the \n",
    "air; the Elves' expedition traditionally goes on foot. As your boats approach land, the \n",
    "Elves begin taking inventory of their supplies. One important consideration is food - in \n",
    "particular, the number of Calories each Elf is carrying (your puzzle input).\n",
    "\n",
    "The Elves take turns writing down the number of Calories contained by the various meals, \n",
    "snacks, rations, etc. that they've brought with them, one item per line. Each Elf separates \n",
    "their own inventory from the previous Elf's inventory (if any) by a blank line.\n",
    "\n",
    "For example, suppose the Elves finish writing their items' Calories and end up with the \n",
    "following list:\n",
    "\n",
    "1000\n",
    "2000\n",
    "3000\n",
    "\n",
    "4000\n",
    "\n",
    "5000\n",
    "6000\n",
    "\n",
    "7000\n",
    "8000\n",
    "9000\n",
    "\n",
    "10000\n",
    "This list represents the Calories of the food carried by five Elves:\n",
    "\n",
    "The first Elf is carrying food with 1000, 2000, and 3000 Calories, a total of 6000 Calories.\n",
    "The second Elf is carrying one food item with 4000 Calories.\n",
    "The third Elf is carrying food with 5000 and 6000 Calories, a total of 11000 Calories.\n",
    "The fourth Elf is carrying food with 7000, 8000, and 9000 Calories, a total of 24000 Calories.\n",
    "The fifth Elf is carrying one food item with 10000 Calories.\n",
    "In case the Elves get hungry and need extra snacks, they need to know which Elf to ask: they'd \n",
    "like to know how many Calories are being carried by the Elf carrying the most Calories. \n",
    "In the example above, this is 24000 (carried by the fourth Elf).\n",
    "\n",
    "Find the Elf carrying the most Calories. How many total Calories is that Elf carrying?\n",
    "\"\"\"\n",
    "\n",
    "\n",
    "def most_calories(s: str) -> int:\n",
    "    elf_load = [sum(map(int,i.split(\"\\n\"))) for i in s.split(\"\\n\\n\")]\n",
    "    return max(elf_load)\n",
    "\n",
    "\n",
    "with open(\"input.txt\") as f:\n",
    "    most_calories = most_calories(f.read()[:-1])\n",
    "    print(most_calories)\n",
    "    \n",
    "#max is 64929\n"
   ]
  },
  {
   "cell_type": "code",
   "execution_count": 7,
   "id": "8af5bc04-4baf-4c12-b704-7856a1984836",
   "metadata": {},
   "outputs": [
    {
     "name": "stdout",
     "output_type": "stream",
     "text": [
      "193697\n"
     ]
    }
   ],
   "source": [
    "\"\"\"\n",
    "--- Part Two ---\n",
    "By the time you calculate the answer to the Elves' question, they've already realized \n",
    "that the Elf carrying the most Calories of food might eventually run out of snacks.\n",
    "\n",
    "To avoid this unacceptable situation, the Elves would instead like to know the total \n",
    "Calories carried by the top three Elves carrying the most Calories. That way, even if \n",
    "one of those Elves runs out of snacks, they still have two backups.\n",
    "\n",
    "In the example above, the top three Elves are the fourth Elf (with 24000 Calories), \n",
    "then the third Elf (with 11000 Calories), then the fifth Elf (with 10000 Calories). \n",
    "The sum of the Calories carried by these three elves is 45000.\n",
    "\n",
    "Find the top three Elves carrying the most Calories. How many Calories are those \n",
    "Elves carrying in total?\n",
    "\n",
    "\"\"\"\n",
    "\n",
    "def calorie_list(s: str) -> int:\n",
    "    elf_load = [sum(map(int,i.split(\"\\n\"))) for i in s.split(\"\\n\\n\")]\n",
    "    return sorted(elf_load)[::-1]\n",
    "\n",
    "def get_top_n(calories: list, n: int) -> int:\n",
    "    return sum(calories[0:n])\n",
    "\n",
    "\n",
    "with open(\"input.txt\") as f:\n",
    "    calories = calorie_list(f.read()[:-1])\n",
    "    print(get_top_n(calories, 3))\n",
    "    \n",
    "#total is 193697"
   ]
  },
  {
   "cell_type": "code",
   "execution_count": null,
   "id": "7942ace2-a296-44f1-b15b-6c3c658e9674",
   "metadata": {},
   "outputs": [],
   "source": []
  }
 ],
 "metadata": {
  "kernelspec": {
   "display_name": "Python 3 (ipykernel)",
   "language": "python",
   "name": "python3"
  },
  "language_info": {
   "codemirror_mode": {
    "name": "ipython",
    "version": 3
   },
   "file_extension": ".py",
   "mimetype": "text/x-python",
   "name": "python",
   "nbconvert_exporter": "python",
   "pygments_lexer": "ipython3",
   "version": "3.8.13"
  }
 },
 "nbformat": 4,
 "nbformat_minor": 5
}
