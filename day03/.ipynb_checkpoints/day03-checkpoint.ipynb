{
 "cells": [
  {
   "cell_type": "code",
   "execution_count": 30,
   "id": "fdf5f345-c35a-4e9a-830e-6db30bb38b50",
   "metadata": {},
   "outputs": [
    {
     "name": "stdout",
     "output_type": "stream",
     "text": [
      "8053\n"
     ]
    }
   ],
   "source": [
    "\"\"\"\n",
    "--- Day 3: Rucksack Reorganization ---\n",
    "\n",
    "One Elf has the important job of loading all of the rucksacks with supplies \n",
    "for the jungle journey. Unfortunately, that Elf didn't quite follow the \n",
    "packing instructions, and so a few items now need to be rearranged.\n",
    "\n",
    "Each rucksack has two large compartments. All items of a given type are \n",
    "meant to go into exactly one of the two compartments. The Elf that did the \n",
    "packing failed to follow this rule for exactly one item type per rucksack.\n",
    "\n",
    "The Elves have made a list of all of the items currently in each rucksack \n",
    "(your puzzle input), but they need your help finding the errors. Every item \n",
    "type is identified by a single lowercase or uppercase letter (that is, a \n",
    "and A refer to different types of items).\n",
    "\n",
    "The list of items for each rucksack is given as characters all on a single \n",
    "line. A given rucksack always has the same number of items in each of its \n",
    "two compartments, so the first half of the characters represent items in \n",
    "the first compartment, while the second half of the characters represent \n",
    "items in the second compartment.\n",
    "\n",
    "For example, suppose you have the following list of contents from six \n",
    "rucksacks:\n",
    "\n",
    "vJrwpWtwJgWrhcsFMMfFFhFp\n",
    "jqHRNqRjqzjGDLGLrsFMfFZSrLrFZsSL\n",
    "PmmdzqPrVvPwwTWBwg\n",
    "wMqvLMZHhHMvwLHjbvcjnnSBnvTQFn\n",
    "ttgJtRGJQctTZtZT\n",
    "CrZsJsPPZsGzwwsLwLmpwMDw\n",
    "\n",
    " - The first rucksack contains the items vJrwpWtwJgWrhcsFMMfFFhFp, which \n",
    "   means its first compartment contains the items vJrwpWtwJgWr, while the \n",
    "   second compartment contains the items hcsFMMfFFhFp. The only item type \n",
    "   that appears in both compartments is lowercase p.\n",
    " - The second rucksack's compartments contain jqHRNqRjqzjGDLGL and \n",
    "   rsFMfFZSrLrFZsSL. The only item type that appears in both compartments \n",
    "   is uppercase L.\n",
    " - The third rucksack's compartments contain PmmdzqPrV and vPwwTWBwg; the \n",
    "   only common item type is uppercase P.\n",
    " - The fourth rucksack's compartments only share item type v.\n",
    " - The fifth rucksack's compartments only share item type t.\n",
    " - The sixth rucksack's compartments only share item type s.\n",
    " \n",
    "To help prioritize item rearrangement, every item type can be converted to \n",
    "a priority:\n",
    "\n",
    " - Lowercase item types a through z have priorities 1 through 26.\n",
    " - Uppercase item types A through Z have priorities 27 through 52.\n",
    " \n",
    "In the above example, the priority of the item type that appears in both \n",
    "compartments of each rucksack is 16 (p), 38 (L), 42 (P), 22 (v), 20 (t), \n",
    "and 19 (s); the sum of these is 157.\n",
    "\n",
    "Find the item type that appears in both compartments of each rucksack. What \n",
    "is the sum of the priorities of those item types?\n",
    "\n",
    "\"\"\"\n",
    "\n",
    "\n",
    "from string import ascii_letters as letters\n",
    "\n",
    "def get_duplicate(s: str) -> str:\n",
    "    return \"\".join(set(s[:len(s)//2]).intersection(s[len(s)//2:]))\n",
    "\n",
    "def sum_values(arr: list) -> int:\n",
    "    return sum([1+letters.index(get_duplicate(w)) for w in arr])\n",
    "\n",
    "with open(\"input.txt\") as f:\n",
    "    print(sum_values(f.read().split(\"\\n\")[:-1]))\n",
    "\n",
    "# Total is 8053"
   ]
  },
  {
   "cell_type": "code",
   "execution_count": 28,
   "id": "3eee8588-26b8-4743-aad7-c3f2e1f574bd",
   "metadata": {},
   "outputs": [
    {
     "name": "stdout",
     "output_type": "stream",
     "text": [
      "157\n"
     ]
    }
   ],
   "source": [
    "data = \"\"\"vJrwpWtwJgWrhcsFMMfFFhFp\n",
    "jqHRNqRjqzjGDLGLrsFMfFZSrLrFZsSL\n",
    "PmmdzqPrVvPwwTWBwg\n",
    "wMqvLMZHhHMvwLHjbvcjnnSBnvTQFn\n",
    "ttgJtRGJQctTZtZT\n",
    "CrZsJsPPZsGzwwsLwLmpwMDw\"\"\"\n",
    "\n",
    "from string import ascii_letters as letters\n",
    "\n",
    "def get_duplicate(s: str) -> str:\n",
    "    return \"\".join(set(s[:len(s)//2]).intersection(s[len(s)//2:]))\n",
    "\n",
    "def sum_values(arr: list) -> int:\n",
    "    return sum([1+letters.index(get_duplicate(w)) for w in arr])\n",
    "\n",
    "print(sum_values(data.split(\"\\n\")))"
   ]
  },
  {
   "cell_type": "code",
   "execution_count": null,
   "id": "fe42e9b9-39e0-4473-80f5-a91f4205963f",
   "metadata": {},
   "outputs": [],
   "source": [
    "\"\"\"\n",
    "\n",
    "\n",
    "\"\"\"\n",
    "\n",
    "\n",
    "def ():\n",
    "    \n",
    "\n",
    "with open(\"input.txt\") as f:\n",
    "    print()\n",
    "\n",
    "#"
   ]
  }
 ],
 "metadata": {
  "kernelspec": {
   "display_name": "Python 3 (ipykernel)",
   "language": "python",
   "name": "python3"
  },
  "language_info": {
   "codemirror_mode": {
    "name": "ipython",
    "version": 3
   },
   "file_extension": ".py",
   "mimetype": "text/x-python",
   "name": "python",
   "nbconvert_exporter": "python",
   "pygments_lexer": "ipython3",
   "version": "3.8.13"
  }
 },
 "nbformat": 4,
 "nbformat_minor": 5
}
